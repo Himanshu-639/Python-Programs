{
 "cells": [
  {
   "cell_type": "markdown",
   "metadata": {},
   "source": [
    "# text filles\n",
    "* creating a text file from list"
   ]
  },
  {
   "cell_type": "code",
   "execution_count": 2,
   "metadata": {},
   "outputs": [],
   "source": [
    "Years=[2009,2011,2000,2010,'20']\n",
    "with open('years.txt','w') as outfile:\n",
    "    for year in Years:\n",
    "     outfile.write(str(year)+'\\n')\n",
    "#reading the file"
   ]
  },
  {
   "cell_type": "markdown",
   "metadata": {},
   "source": [
    "# Reading a text file"
   ]
  },
  {
   "cell_type": "code",
   "execution_count": 3,
   "metadata": {},
   "outputs": [
    {
     "name": "stdout",
     "output_type": "stream",
     "text": [
      "2009\n",
      "\n",
      "2011\n",
      "\n",
      "2000\n",
      "\n",
      "2010\n",
      "\n",
      "20\n",
      "\n",
      "['2009\\n', '2011\\n', '2000\\n', '2010\\n', '20\\n']\n",
      "2009\n",
      "2011\n",
      "2000\n",
      "2010\n",
      "20\n",
      "\n"
     ]
    }
   ],
   "source": [
    "years=[]; stout=\"\"\n",
    "with open('years.txt','r') as infile:\n",
    "    for e in infile:\n",
    "        stout=stout+e\n",
    "        if e.isdigit():\n",
    "            print('***',int(e))\n",
    "        else:\n",
    "            print(e)\n",
    "            years.append(e)\n",
    "print(years)\n",
    "print(stout)"
   ]
  },
  {
   "cell_type": "markdown",
   "metadata": {},
   "source": [
    "# Create a textfile using text input by the user till user enter STOP"
   ]
  },
  {
   "cell_type": "code",
   "execution_count": 9,
   "metadata": {},
   "outputs": [
    {
     "name": "stdout",
     "output_type": "stream",
     "text": [
      "*********writing txt in file using write()\n"
     ]
    },
    {
     "name": "stdout",
     "output_type": "stream",
     "text": [
      "file is not closed\n"
     ]
    }
   ],
   "source": [
    "from os import system\n",
    "system('clear')\n",
    "\n",
    "print(\"*********writing txt in file using write()\")\n",
    "outfile=open(\"fin.txt\",\"w\")\n",
    "while True:\n",
    "    txt=input(\"enter text(STOP) to terminate:  \")\n",
    "    if txt.upper() != 'STOP':\n",
    "        outfile.write(txt)  #write text in file\n",
    "        outfile.write(\"\\n\") #use \\n to explicitly write new line char in file\n",
    "    else:\n",
    "        break #move out the loop\n",
    "if outfile.closed==True:\n",
    "    print(\"file is closed\")\n",
    "else:\n",
    "    print(\"file is not closed\")\n",
    "outfile.close()"
   ]
  },
  {
   "cell_type": "code",
   "execution_count": 10,
   "metadata": {},
   "outputs": [
    {
     "name": "stdout",
     "output_type": "stream",
     "text": [
      "We are \n",
      "going to learn\n",
      "how to \n",
      "\n"
     ]
    }
   ],
   "source": [
    "fin=open(\"fin.txt\",\"r\")\n",
    "txt=fin.read()\n",
    "print(txt)"
   ]
  },
  {
   "cell_type": "markdown",
   "metadata": {},
   "source": [
    "# Find the output?"
   ]
  },
  {
   "cell_type": "code",
   "execution_count": 7,
   "metadata": {},
   "outputs": [],
   "source": [
    "#using writelines to write multiple lines but newline need to enter\n",
    "ltxt=[\"hello\\n\",\"everyone\\n\",\"Good morning\\n\"]  #to have seperate lines use newline\n",
    "with open(\"D:\\\\PYTHON-Programming\\\\try.txt\",\"w\") as ofile:  #no need to explicitly close the file\n",
    "    ofile.writelines(ltxt)  #write text in file"
   ]
  },
  {
   "cell_type": "markdown",
   "metadata": {},
   "source": [
    "# Exception handling with files"
   ]
  },
  {
   "cell_type": "code",
   "execution_count": 4,
   "metadata": {},
   "outputs": [
    {
     "name": "stdout",
     "output_type": "stream",
     "text": [
      "0\n",
      "asd fgh\n",
      "addf \n",
      "hello\n",
      "good\n",
      "beyond this point, working smoothly..\n"
     ]
    }
   ],
   "source": [
    "try:\n",
    "    fin=open(\"./filedata/try.txt.txt\",\"r\")\n",
    "    print(fin.tell())\n",
    "    print(fin.read())\n",
    "except IOError:\n",
    "    print(\"file doesnot exist\")\n",
    "print(\"beyond this point, working smoothly..\")"
   ]
  }
 ],
 "metadata": {
  "kernelspec": {
   "display_name": "Python 3",
   "language": "python",
   "name": "python3"
  },
  "language_info": {
   "codemirror_mode": {
    "name": "ipython",
    "version": 3
   },
   "file_extension": ".py",
   "mimetype": "text/x-python",
   "name": "python",
   "nbconvert_exporter": "python",
   "pygments_lexer": "ipython3",
   "version": "3.9.4"
  }
 },
 "nbformat": 4,
 "nbformat_minor": 2
}
