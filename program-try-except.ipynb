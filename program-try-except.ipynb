{
 "cells": [
  {
   "cell_type": "code",
   "execution_count": 1,
   "metadata": {},
   "outputs": [
    {
     "data": {
      "text/plain": [
       "1"
      ]
     },
     "execution_count": 1,
     "metadata": {},
     "output_type": "execute_result"
    }
   ],
   "source": [
    "# to compute square of numeric value else raise exception\n",
    "import os\n",
    "os.system('clear')"
   ]
  },
  {
   "cell_type": "code",
   "execution_count": 6,
   "metadata": {},
   "outputs": [],
   "source": [
    "#main function\n",
    "def main(): \n",
    "\twhile True:\n",
    "\t\treply=input('Enter text (stop to ends):')\n",
    "\t\tif reply == 'stop':\n",
    "\t\t\tbreak\n",
    "\t\ttry:\n",
    "\t\t\tprint(\"number is=\",int(reply))\n",
    "\t\t\tprint(int(reply)**2)\t\t\t\n",
    "\t\t#except:\n",
    "\t\texcept(ValueError, TypeError):\n",
    "\t\t\tprint('Bad data')\n",
    "\tprint('ends')"
   ]
  },
  {
   "cell_type": "code",
   "execution_count": 7,
   "metadata": {},
   "outputs": [
    {
     "name": "stdout",
     "output_type": "stream",
     "text": [
      "Bad data\n",
      "Bad data\n",
      "ends\n"
     ]
    }
   ],
   "source": [
    "#statement to indicate start point\n",
    "if __name__== '__main__':\n",
    "    main()  "
   ]
  }
 ],
 "metadata": {
  "kernelspec": {
   "display_name": "Python 3",
   "language": "python",
   "name": "python3"
  },
  "language_info": {
   "codemirror_mode": {
    "name": "ipython",
    "version": 3
   },
   "file_extension": ".py",
   "mimetype": "text/x-python",
   "name": "python",
   "nbconvert_exporter": "python",
   "pygments_lexer": "ipython3",
   "version": "3.9.4"
  }
 },
 "nbformat": 4,
 "nbformat_minor": 2
}
